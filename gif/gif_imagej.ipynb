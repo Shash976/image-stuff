{
 "cells": [
  {
   "cell_type": "code",
   "execution_count": 1,
   "metadata": {},
   "outputs": [],
   "source": [
    "import imagej\n",
    "import numpy as np\n",
    "import cv2"
   ]
  },
  {
   "cell_type": "code",
   "execution_count": 2,
   "metadata": {},
   "outputs": [
    {
     "ename": "AttributeError",
     "evalue": "'_jpype._JMethod' object has no attribute 'open'",
     "output_type": "error",
     "traceback": [
      "\u001b[1;31m---------------------------------------------------------------------------\u001b[0m",
      "\u001b[1;31mAttributeError\u001b[0m                            Traceback (most recent call last)",
      "Cell \u001b[1;32mIn[2], line 3\u001b[0m\n\u001b[0;32m      1\u001b[0m image_path \u001b[39m=\u001b[39m \u001b[39mr\u001b[39m\u001b[39m\"\u001b[39m\u001b[39mC:\u001b[39m\u001b[39m\\\u001b[39m\u001b[39mUsers\u001b[39m\u001b[39m\\\u001b[39m\u001b[39mshashg\u001b[39m\u001b[39m\\\u001b[39m\u001b[39mDocuments\u001b[39m\u001b[39m\\\u001b[39m\u001b[39mFrames\u001b[39m\u001b[39m\\\u001b[39m\u001b[39m3mM L+C 7mM H2o2 b.jpg\u001b[39m\u001b[39m\"\u001b[39m\n\u001b[0;32m      2\u001b[0m ij \u001b[39m=\u001b[39m imagej\u001b[39m.\u001b[39minit()\n\u001b[1;32m----> 3\u001b[0m image \u001b[39m=\u001b[39m ij\u001b[39m.\u001b[39;49mio\u001b[39m.\u001b[39;49mopen(image_path)\n",
      "\u001b[1;31mAttributeError\u001b[0m: '_jpype._JMethod' object has no attribute 'open'"
     ]
    }
   ],
   "source": [
    "image_path = r\"C:\\Users\\shashg\\Documents\\Frames\\3mM L+C 7mM H2o2 b.jpg\"\n",
    "ij = imagej.init()\n",
    "image = ij.io.open(image_path)"
   ]
  },
  {
   "cell_type": "code",
   "execution_count": 9,
   "metadata": {},
   "outputs": [
    {
     "ename": "AttributeError",
     "evalue": "'_jpype._JMethod' object has no attribute 'open'",
     "output_type": "error",
     "traceback": [
      "\u001b[1;31m---------------------------------------------------------------------------\u001b[0m",
      "\u001b[1;31mAttributeError\u001b[0m                            Traceback (most recent call last)",
      "Cell \u001b[1;32mIn[9], line 1\u001b[0m\n\u001b[1;32m----> 1\u001b[0m image \u001b[39m=\u001b[39m ij\u001b[39m.\u001b[39;49mio\u001b[39m.\u001b[39;49mopen(image_path)\n\u001b[0;32m      2\u001b[0m \u001b[39m# Create a MaximumFinder object\u001b[39;00m\n\u001b[0;32m      3\u001b[0m finder \u001b[39m=\u001b[39m ij\u001b[39m.\u001b[39mplugin\u001b[39m.\u001b[39mfilter\u001b[39m.\u001b[39mMaximumFinder()\n",
      "\u001b[1;31mAttributeError\u001b[0m: '_jpype._JMethod' object has no attribute 'open'"
     ]
    }
   ],
   "source": [
    "\n",
    "# Create a MaximumFinder object\n",
    "finder = ij.plugin.filter.MaximumFinder()\n",
    "\n",
    "# Set the prominence threshold\n",
    "finder.setProminenceThreshold(10)\n",
    "\n",
    "# Find the maxima\n",
    "maxima = finder.findMaxima(image)\n",
    "\n",
    "# Print the coordinates of the maxima\n",
    "for i in range(len(maxima)):\n",
    "    print(maxima[i].x, maxima[i].y)\n"
   ]
  }
 ],
 "metadata": {
  "kernelspec": {
   "display_name": "Python 3",
   "language": "python",
   "name": "python3"
  },
  "language_info": {
   "codemirror_mode": {
    "name": "ipython",
    "version": 3
   },
   "file_extension": ".py",
   "mimetype": "text/x-python",
   "name": "python",
   "nbconvert_exporter": "python",
   "pygments_lexer": "ipython3",
   "version": "3.11.3"
  },
  "orig_nbformat": 4
 },
 "nbformat": 4,
 "nbformat_minor": 2
}
